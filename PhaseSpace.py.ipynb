{
 "cells": [
  {
   "cell_type": "code",
   "execution_count": 6,
   "metadata": {},
   "outputs": [
    {
     "name": "stdout",
     "output_type": "stream",
     "text": [
      "Requirement already satisfied: numpy in /usr/local/lib/python3.9/site-packages (1.20.1)\n",
      "Requirement already satisfied: scipy in /usr/local/lib/python3.9/site-packages (1.6.1)\n",
      "Requirement already satisfied: matplotlib in /usr/local/lib/python3.9/site-packages (3.3.4)\n",
      "Requirement already satisfied: seaborn in /usr/local/lib/python3.9/site-packages (0.11.1)\n",
      "Requirement already satisfied: sympy in /usr/local/lib/python3.9/site-packages (1.7.1)\n",
      "Requirement already satisfied: autograd in /usr/local/lib/python3.9/site-packages (1.3)\n",
      "Requirement already satisfied: pandas in /usr/local/lib/python3.9/site-packages (1.2.2)\n",
      "Requirement already satisfied: symengine in /usr/local/lib/python3.9/site-packages (0.6.1)\n",
      "Requirement already satisfied: future>=0.15.2 in /usr/local/lib/python3.9/site-packages (from autograd) (0.18.2)\n",
      "Requirement already satisfied: pillow>=6.2.0 in /usr/local/lib/python3.9/site-packages (from matplotlib) (8.1.0)\n",
      "Requirement already satisfied: cycler>=0.10 in /usr/local/lib/python3.9/site-packages (from matplotlib) (0.10.0)\n",
      "Requirement already satisfied: kiwisolver>=1.0.1 in /usr/local/lib/python3.9/site-packages (from matplotlib) (1.3.1)\n",
      "Requirement already satisfied: python-dateutil>=2.1 in /usr/local/lib/python3.9/site-packages (from matplotlib) (2.8.1)\n",
      "Requirement already satisfied: pyparsing!=2.0.4,!=2.1.2,!=2.1.6,>=2.0.3 in /usr/local/lib/python3.9/site-packages (from matplotlib) (2.4.7)\n",
      "Requirement already satisfied: six in /usr/local/lib/python3.9/site-packages (from cycler>=0.10->matplotlib) (1.15.0)\n",
      "Requirement already satisfied: pytz>=2017.3 in /usr/local/lib/python3.9/site-packages (from pandas) (2021.1)\n",
      "Requirement already satisfied: mpmath>=0.19 in /usr/local/lib/python3.9/site-packages (from sympy) (1.2.1)\n"
     ]
    }
   ],
   "source": [
    "# INFO: execute shell commands directly by prefixing them with '!'\n",
    "!pip install numpy scipy matplotlib seaborn sympy scipy autograd pandas symengine"
   ]
  },
  {
   "cell_type": "code",
   "execution_count": 7,
   "metadata": {
    "id": "XaLvyTlMTPNf"
   },
   "outputs": [],
   "source": [
    "import numpy as np\n",
    "import scipy.integrate\n",
    "import scipy.optimize\n",
    "\n",
    "# Plotting modules\n",
    "import matplotlib.pyplot as plt\n",
    "import seaborn as sns\n",
    "\n",
    "import sympy\n",
    "import scipy\n",
    "from scipy.optimize import fsolve\n",
    "\n",
    "import autograd.numpy as np\n",
    "from autograd import grad, jacobian\n",
    "\n",
    "import pandas as pd\n",
    "\n",
    "import symengine\n",
    "\n"
   ]
  },
  {
   "cell_type": "code",
   "execution_count": 8,
   "metadata": {
    "id": "8kIlBjbrT096"
   },
   "outputs": [],
   "source": [
    "sns.set(style='whitegrid')"
   ]
  },
  {
   "cell_type": "markdown",
   "metadata": {
    "id": "9OhK2W27KJlj"
   },
   "source": [
    "## Set parameter and initial conditions"
   ]
  },
  {
   "cell_type": "code",
   "execution_count": 9,
   "metadata": {
    "colab": {
     "base_uri": "https://localhost:8080/"
    },
    "id": "h_CZjYEJVa8K",
    "outputId": "e30848e0-07c0-43e3-90fc-0428fbe7ed5c"
   },
   "outputs": [
    {
     "name": "stdout",
     "output_type": "stream",
     "text": [
      "[1.  1.1]\n"
     ]
    }
   ],
   "source": [
    "# Parameters\n",
    "gamma = 2\n",
    "beta = 5\n",
    "n = 2\n",
    "args = (beta, gamma, n)\n",
    "\n",
    "aStimulusRange = [0, 6]\n",
    "bStimulusRange = [0, 6]\n",
    "\n",
    "# Initial condition\n",
    "ab0 = np.array([1, 1.1])\n",
    "print(ab0)\n",
    "\n",
    "# Solve\n",
    "\n",
    "t = np.linspace(0, 30, 200)"
   ]
  },
  {
   "cell_type": "markdown",
   "metadata": {
    "id": "l479dxEyENXW"
   },
   "source": [
    "For the lorenz system"
   ]
  },
  {
   "cell_type": "markdown",
   "metadata": {
    "id": "2Tf-VE3RKSXu"
   },
   "source": [
    "## Design the ODE model"
   ]
  },
  {
   "cell_type": "code",
   "execution_count": 10,
   "metadata": {
    "id": "fVB_MRcCVYIK"
   },
   "outputs": [],
   "source": [
    "# solve this ODE System\n",
    "def solveODESystem(ab, t, beta, gamma, n):\n",
    "\n",
    "    a, b = ab\n",
    "\n",
    "    dadt = beta / (1 + b**n) - a\n",
    "    dbdt = gamma * (beta / (1 + a**n) - b)\n",
    "\n",
    "    return np.array([dadt,dbdt])"
   ]
  },
  {
   "cell_type": "markdown",
   "metadata": {
    "id": "9EpGJsGMKhw9"
   },
   "source": [
    "## Calculate the fixed points "
   ]
  },
  {
   "cell_type": "code",
   "execution_count": 11,
   "metadata": {
    "id": "jpyM3ng4VjYX"
   },
   "outputs": [],
   "source": [
    "def calculateFixPoints(ab, beta, gamma,n):\n",
    "    a,b = ab\n",
    "\n",
    "    dadt = beta / (1 + b**n) - a\n",
    "    dbdt = gamma * (beta / (1 + a**n) - b)\n",
    "\n",
    "    return np.array([dadt,dbdt])"
   ]
  },
  {
   "cell_type": "markdown",
   "metadata": {
    "id": "wjScfWduKrXs"
   },
   "source": [
    "## How to solve the separatrix"
   ]
  },
  {
   "cell_type": "code",
   "execution_count": 12,
   "metadata": {
    "id": "aWdclIeCIIcV"
   },
   "outputs": [],
   "source": [
    "# For computing the separatrix, we start at the saddle and then integrate the \n",
    "# system backwards in time, starting just off of the saddle point.\n",
    "def newSeparatrix(fixedPoints, aStimulusRange, bStimulusRange, beta, gamma, n, t_max=50, eps=5e-6, \n",
    "                           color='tomato', lw=3):\n",
    "\n",
    "    # Negative time function to integrate to compute separatrix\n",
    "    def rhs(ab, t):\n",
    "        # Unpack variables\n",
    "        a, b = ab\n",
    "    \n",
    "        # Stop integrating if we get the edge of where we want to integrate\n",
    "        if aStimulusRange[0] < a < aStimulusRange[1] and bStimulusRange[0] < b < bStimulusRange[1]:\n",
    "            return -solveODESystem(ab, t, beta, gamma, n)\n",
    "        else:\n",
    "            return np.array([0, 0]) \n",
    "\n",
    "    # Parameters for building separatrix\n",
    "    t = np.linspace(0, t_max, 400)\n",
    "    \n",
    "    # Build upper right branch of separatrix\n",
    "    ab0 = fixedPoints + eps\n",
    "    ab_upper = scipy.integrate.odeint(rhs, ab0, t)\n",
    "\n",
    "    # Build lower left branch of separatrix\n",
    "    ab0 = fixedPoints - eps\n",
    "    ab_lower = scipy.integrate.odeint(rhs, ab0, t)\n",
    "\n",
    "    # Concatenate, reversing lower so points are sequential\n",
    "    sep_a = np.concatenate((ab_lower[::-1,0], ab_upper[:,0]))\n",
    "    sep_b = np.concatenate((ab_lower[::-1,1], ab_upper[:,1]))\n",
    "    \n",
    "    # create the separatrix time series as a pandas dataframe\n",
    "    createDataFrameDict = {'a': list(sep_a), 'b': list(sep_b)}\n",
    "    pdDataFrame = pd.DataFrame(data=createDataFrameDict)\n",
    "        \n",
    "    return pdDataFrame"
   ]
  },
  {
   "cell_type": "markdown",
   "metadata": {
    "id": "TEnoV_4aYpq8"
   },
   "source": [
    "solve the equation system for \n",
    "$$\n",
    "f(x)=0\n",
    "$$"
   ]
  },
  {
   "cell_type": "code",
   "execution_count": 13,
   "metadata": {
    "id": "_hQ--L1AVoez"
   },
   "outputs": [],
   "source": [
    "# calculate the fixpoints\n",
    "\n",
    "# NOTE: google for scipy.optimize.root \n",
    "\n",
    "# start at x0 (your inititial guess of location of the fixed point) type = ndarray\n",
    "# NOTE: root and fsolve calculate the same. i can not approve which one is the most\n",
    "# time efficient\n",
    "# sol = scipy.optimize.root(testCalculateFixPoints, x0=[4, 0], args=(beta, gamma, n),method='hybr')\n",
    "# print(sol.x)\n",
    "\n",
    "fixedPoints = (fsolve(calculateFixPoints, x0=ab0, args=(beta, gamma, n)),)\n"
   ]
  },
  {
   "cell_type": "markdown",
   "metadata": {
    "id": "_B9lUrMpsozp"
   },
   "source": [
    "## Calculate the Jacobian\n"
   ]
  },
  {
   "cell_type": "markdown",
   "metadata": {
    "id": "TObh9mn8O1IF"
   },
   "source": [
    "Using the SymEngine module:"
   ]
  },
  {
   "cell_type": "code",
   "execution_count": 14,
   "metadata": {
    "colab": {
     "base_uri": "https://localhost:8080/"
    },
    "id": "BHWZsYgFO7Z0",
    "outputId": "da449cc8-9934-4eba-a1bc-ac1956d02890"
   },
   "outputs": [],
   "source": [
    "variables = symengine.symbols('a b') # Define x and y variables\n",
    "\n",
    "# Define the function\n",
    "f = symengine.sympify(['beta / (1 + b**n) - a', 'gamma * (beta / (1 + a**n) - b)']) \n",
    "\n",
    "# initialize Jacobian matrix\n",
    "J = symengine.zeros(len(f),len(variables)) \n",
    "\n",
    "# Fill Jacobian matrix with entries\n",
    "for i, fi in enumerate(f):\n",
    "    for j, s in enumerate(variables):\n",
    "        J[i,j] = symengine.diff(fi, s)\n",
    "\n",
    "# convert J to a sympy matrix\n",
    "stringJ = sympy.Matrix(J)"
   ]
  },
  {
   "cell_type": "markdown",
   "metadata": {
    "id": "zUgZJoCZOdC-"
   },
   "source": [
    "## Evalulate Jacobian \n",
    "Now evaluate the Jacobian Matrix with the found fixed points coordinates"
   ]
  },
  {
   "cell_type": "code",
   "execution_count": 15,
   "metadata": {
    "id": "KtAtv0TdwE3Q"
   },
   "outputs": [],
   "source": [
    "# TODO: generalize this approach \n",
    "\n",
    "fixedPointsDict = {}\n",
    "numFixPoints = 0\n",
    "\n",
    "for i in fixedPoints:\n",
    "\n",
    "  placeHolderDict = {}\n",
    "  placeHolderDict['a'] = i[0]\n",
    "  placeHolderDict['b'] = i[1]\n",
    "  fixedPointsDict[numFixPoints] = placeHolderDict\n",
    "  numFixPoints += 1\n",
    "  \n",
    "# eval the J matrix\n",
    "parameterDict = dict()\n",
    "parameterDict['gamma'] = 2\n",
    "parameterDict['beta'] = 5\n",
    "parameterDict['n'] = 2"
   ]
  },
  {
   "cell_type": "markdown",
   "metadata": {
    "id": "JNTr1URIHYpv"
   },
   "source": [
    "\n",
    "## Calculate the eigenvalues\n",
    "calculate the eigenvalues with the jacobi matrix $\\mathbf{J}$\n",
    "$$\\mathbf{J}=\\begin{pmatrix} 2*x*y & x^2 \\\\ 5 & cos(y) \\end{pmatrix}$$"
   ]
  },
  {
   "cell_type": "markdown",
   "metadata": {
    "id": "lrISnmwLQaiv"
   },
   "source": [
    "control whether all eigenvalues are positiv.\n",
    "\n",
    "*Background knowledge*: the stationary solution is unstable if the real part of one eigenvalue is positiv."
   ]
  },
  {
   "cell_type": "code",
   "execution_count": 16,
   "metadata": {
    "id": "0tlUPL-c26QH"
   },
   "outputs": [],
   "source": [
    "def controlEigenvalues(eigenvalues):\n",
    "  for i in eigenvalues:\n",
    "    if i > 0:\n",
    "      return 'unstable'\n",
    "  return 'stable' "
   ]
  },
  {
   "cell_type": "code",
   "execution_count": 17,
   "metadata": {
    "colab": {
     "base_uri": "https://localhost:8080/"
    },
    "id": "Dvj3hmam1PJF",
    "outputId": "8a9aaf5f-d7e7-4a4a-d2e8-c9ad6784a6fc"
   },
   "outputs": [
    {
     "name": "stdout",
     "output_type": "stream",
     "text": [
      "(array([1.51598023, 1.51598023]),)\n"
     ]
    }
   ],
   "source": [
    "unstableFixedPoints = []\n",
    "\n",
    "for i,j in fixedPointsDict.items():\n",
    "  # merge the parameter dict with the fixed point solution\n",
    "  mergedDict = dict(**parameterDict, **j)\n",
    "\n",
    "  numberJ = np.array(np.array(stringJ.subs(mergedDict)),dtype=float)\n",
    "  \n",
    "  # calculate the eigenvalues\n",
    "  eigenvalues = np.linalg.eigvals(numberJ)\n",
    " \n",
    "  # check whether the fixed point is stable or unstable \n",
    "  if controlEigenvalues(eigenvalues) == 'unstable':\n",
    "    unstableFixedPoints.append(j)\n",
    "\n",
    "# NOTE: Temporary solution\n",
    "unstableFixedPointsTuple = ()\n",
    "for i in unstableFixedPoints:\n",
    "    unstableFixedPointsTuple += (np.array(list(i.values())),)\n",
    "print(unstableFixedPointsTuple)"
   ]
  },
  {
   "cell_type": "markdown",
   "metadata": {
    "id": "V6uIU03qci_P"
   },
   "source": [
    "## Plot the separatrix space\n",
    "\n",
    "The results of the simulations are time series of each 1 separatrix.\n",
    "\n",
    "There exists *2n* separatrices for *n* saddle points.\n",
    "\n",
    "The task **remains** to visualize them in one plot / visualizations."
   ]
  },
  {
   "cell_type": "code",
   "execution_count": 18,
   "metadata": {
    "colab": {
     "base_uri": "https://localhost:8080/",
     "height": 322
    },
    "id": "ahXtf7cZVskj",
    "outputId": "6ee9830f-2359-463a-d380-f41e5af9dd79"
   },
   "outputs": [
    {
     "data": {
      "image/png": "[encoded data removed]",
      "text/plain": [
       "<Figure size 360x360 with 1 Axes>"
      ]
     },
     "metadata": {},
     "output_type": "display_data"
    }
   ],
   "source": [
    "# We can generate lots and lots of trajectories to see how the system evolves.\n",
    "# We can do this by solving for the dynamics for different initial conditions.\n",
    "\n",
    "tmax = 50\n",
    "plt.figure(figsize=(5,5))\n",
    "\n",
    "timeSeriesList = []\n",
    "pdDataFrame = newSeparatrix(unstableFixedPointsTuple[0], aStimulusRange, bStimulusRange, beta, gamma, n, t_max=tmax)\n",
    "pdDataFrame2 = newSeparatrix(unstableFixedPointsTuple[0], aStimulusRange, bStimulusRange, beta, gamma, n, t_max=-tmax)\n",
    "\n",
    "timeSeriesList.append(pdDataFrame)\n",
    "timeSeriesList.append(pdDataFrame2)\n",
    "\n",
    "for i in timeSeriesList:\n",
    "  \n",
    "  # split the array column-wise\n",
    "  splittedList = np.hsplit(i.values,2)\n",
    "  plt.plot(splittedList[0],splittedList[1], color='black')\n",
    "\n",
    "plt.show()\n"
   ]
  }
 ],
 "metadata": {
  "accelerator": "GPU",
  "colab": {
   "collapsed_sections": [],
   "name": "PhaseSpace.ipynb",
   "provenance": []
  },
  "kernelspec": {
   "display_name": "Python 3",
   "language": "python",
   "name": "python3"
  },
  "language_info": {
   "codemirror_mode": {
    "name": "ipython",
    "version": 3
   },
   "file_extension": ".py",
   "mimetype": "text/x-python",
   "name": "python",
   "nbconvert_exporter": "python",
   "pygments_lexer": "ipython3",
   "version": "3.9.1"
  }
 },
 "nbformat": 4,
 "nbformat_minor": 1
}
