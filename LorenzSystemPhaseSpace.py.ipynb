{
 "cells": [
  {
   "cell_type": "code",
   "execution_count": 2,
   "metadata": {
    "colab": {
     "base_uri": "https://localhost:8080/"
    },
    "id": "2GI6tYO6bCja",
    "outputId": "6b5c065a-2164-4b9b-cfa6-4901b5ef15b7"
   },
   "outputs": [
    {
     "name": "stdout",
     "output_type": "stream",
     "text": [
      "Requirement already satisfied: numpy in /usr/local/lib/python3.9/site-packages (1.20.1)\n",
      "Requirement already satisfied: scipy in /usr/local/lib/python3.9/site-packages (1.6.1)\n",
      "Requirement already satisfied: matplotlib in /usr/local/lib/python3.9/site-packages (3.3.4)\n",
      "Requirement already satisfied: seaborn in /usr/local/lib/python3.9/site-packages (0.11.1)\n",
      "Requirement already satisfied: sympy in /usr/local/lib/python3.9/site-packages (1.7.1)\n",
      "Requirement already satisfied: autograd in /usr/local/lib/python3.9/site-packages (1.3)\n",
      "Requirement already satisfied: pandas in /usr/local/lib/python3.9/site-packages (1.2.2)\n",
      "Requirement already satisfied: symengine in /usr/local/lib/python3.9/site-packages (0.6.1)\n",
      "Requirement already satisfied: future>=0.15.2 in /usr/local/lib/python3.9/site-packages (from autograd) (0.18.2)\n",
      "Requirement already satisfied: pyparsing!=2.0.4,!=2.1.2,!=2.1.6,>=2.0.3 in /usr/local/lib/python3.9/site-packages (from matplotlib) (2.4.7)\n",
      "Requirement already satisfied: cycler>=0.10 in /usr/local/lib/python3.9/site-packages (from matplotlib) (0.10.0)\n",
      "Requirement already satisfied: pillow>=6.2.0 in /usr/local/lib/python3.9/site-packages (from matplotlib) (8.1.0)\n",
      "Requirement already satisfied: python-dateutil>=2.1 in /usr/local/lib/python3.9/site-packages (from matplotlib) (2.8.1)\n",
      "Requirement already satisfied: kiwisolver>=1.0.1 in /usr/local/lib/python3.9/site-packages (from matplotlib) (1.3.1)\n",
      "Requirement already satisfied: six in /usr/local/lib/python3.9/site-packages (from cycler>=0.10->matplotlib) (1.15.0)\n",
      "Requirement already satisfied: pytz>=2017.3 in /usr/local/lib/python3.9/site-packages (from pandas) (2021.1)\n",
      "Requirement already satisfied: mpmath>=0.19 in /usr/local/lib/python3.9/site-packages (from sympy) (1.2.1)\n"
     ]
    }
   ],
   "source": [
    "# INFO: execute shell commands directly by prefixing them with '!'\n",
    "!pip install numpy scipy matplotlib seaborn sympy scipy autograd pandas symengine"
   ]
  },
  {
   "cell_type": "code",
   "execution_count": 3,
   "metadata": {
    "id": "YpmoOSb6Ig8j"
   },
   "outputs": [],
   "source": [
    "import numpy as np\n",
    "import scipy.integrate\n",
    "import scipy.optimize\n",
    "from scipy.integrate import odeint\n",
    "\n",
    "# Plotting modules\n",
    "import matplotlib.pyplot as plt\n",
    "import seaborn as sns\n",
    "\n",
    "import scipy\n",
    "from scipy.optimize import fsolve\n",
    "\n",
    "import autograd.numpy as np\n",
    "from autograd import grad, jacobian\n",
    "\n",
    "import pandas as pd\n",
    "\n",
    "# for the 3D plot\n",
    "from mpl_toolkits import mplot3d\n",
    "\n",
    "import symengine\n",
    "import sympy\n",
    "\n",
    "sns.set(style='whitegrid')"
   ]
  },
  {
   "cell_type": "code",
   "execution_count": 4,
   "metadata": {
    "id": "Xy99_TS1IdIV"
   },
   "outputs": [],
   "source": [
    "# define the initial system state (aka x, y, z positions in space)\n",
    "initial_state = np.array([0.1, 0, 0])\n",
    "#initial_state = np.array([8.485,8.485,27])\n",
    "\n",
    "\n",
    "# the range for the separatrix calculation\n",
    "xStimulusRange = [0, 6]\n",
    "yStimulusRange = [0, 6]\n",
    "zStimulusRange = [0, 6]\n",
    "\n",
    "# define the system parameters sigma, rho, and beta\n",
    "sigma = 10.\n",
    "rho   = 28.\n",
    "beta  = 8./3.\n",
    "\n",
    "args = (sigma, rho, beta)\n",
    "\n",
    "t = np.linspace(0, 30, 300)"
   ]
  },
  {
   "cell_type": "code",
   "execution_count": 5,
   "metadata": {
    "id": "TWFUr4aJIoAq"
   },
   "outputs": [],
   "source": [
    "def solveODESystem(current_state, t, sigma, rho, beta):\n",
    "  \n",
    "    x, y, z = current_state\n",
    "    \n",
    "    dx_dt = sigma * (y - x)\n",
    "    dy_dt = x * (rho - z) - y\n",
    "    dz_dt = x * y - beta * z\n",
    "    \n",
    "    return np.array([dx_dt, dy_dt, dz_dt])"
   ]
  },
  {
   "cell_type": "code",
   "execution_count": 6,
   "metadata": {
    "id": "clVifPOFIpxW"
   },
   "outputs": [],
   "source": [
    "def calculateFixPoints(current_state, sigma, rho, beta):\n",
    "  \n",
    "    x, y, z = current_state\n",
    "    \n",
    "    dx_dt = sigma * (y - x)\n",
    "    dy_dt = x * (rho - z) - y\n",
    "    dz_dt = x * y - beta * z\n",
    "    \n",
    "    return np.array([dx_dt, dy_dt, dz_dt])"
   ]
  },
  {
   "cell_type": "markdown",
   "metadata": {
    "id": "GiuEaogp6NCV"
   },
   "source": [
    "Calculate the trajectories"
   ]
  },
  {
   "cell_type": "code",
   "execution_count": 7,
   "metadata": {
    "colab": {
     "base_uri": "https://localhost:8080/"
    },
    "id": "gwGXmdIe6MTD",
    "outputId": "a8be2353-3077-49e3-e905-7c951ce793b0"
   },
   "outputs": [
    {
     "name": "stdout",
     "output_type": "stream",
     "text": [
      "             x          y          z\n",
      "0     0.100000   0.000000   0.000000\n",
      "1     0.127649   0.256531   0.001152\n",
      "2     0.397944   0.866295   0.013074\n",
      "3     1.300550   2.835447   0.140302\n",
      "4     4.219009   9.100986   1.482146\n",
      "..         ...        ...        ...\n",
      "295  -1.378435  -2.701633  19.106652\n",
      "296  -2.825731  -4.659605  15.294068\n",
      "297  -5.576251  -9.483735  14.276211\n",
      "298 -10.853056 -17.032843  20.846098\n",
      "299 -14.708808 -13.877747  36.208688\n",
      "\n",
      "[300 rows x 3 columns]\n"
     ]
    }
   ],
   "source": [
    "trajectorieValue = pd.DataFrame(odeint(solveODESystem, initial_state, t, args=(sigma, rho, beta)), columns=['x','y','z'])\n",
    "print(trajectorieValue)"
   ]
  },
  {
   "cell_type": "code",
   "execution_count": 8,
   "metadata": {
    "id": "ePMCs-eTB5fA"
   },
   "outputs": [],
   "source": [
    "def exploreDGLSurface(initial_state, i, args):\n",
    " # print(\"first=\",initial_state)\n",
    "  placeHolderState = initial_state + i\n",
    "\n",
    "  # new found fix point    \n",
    "  # round after 8 digits after the decimal place\n",
    "  # NOTE: the reason for this is that fsolve solves the system with a deviation\n",
    "  newFixPoint = (fsolve(calculateFixPoints, x0=placeHolderState, args=args).round(8))\n",
    "\n",
    "  return newFixPoint\n",
    "\n",
    "def checkFoundedFixPoint(newFixPoint, fixedPoints):\n",
    "  # check whether the fixed point was not found already    \n",
    "\n",
    "  if np.isin(newFixPoint,fixedPoints).all() == False:\n",
    "    fixedPoints.append(newFixPoint)\n",
    "\n",
    "  return fixedPoints\n",
    "\n",
    "# surfaceScope = wie weit der Käfer die Oberfläche einsehen kann\n",
    "# surfaceStep = iteration Schritt\n",
    "def iterateOverDGLSurface(initial_state=np.ndarray, surfaceScope=0, surfaceStep=0, args=()):\n",
    "\n",
    "  iterationSpace = np.linspace(0,surfaceScope,int(surfaceScope/surfaceStep) + 1)\n",
    "  fixedPoints = [] \n",
    "  \n",
    "  for i in iterationSpace:  \n",
    "    # TEMP: not a good coding practice\n",
    "    \n",
    "    newFixPoint = exploreDGLSurface(initial_state, i, args)\n",
    "    fixedPoints = checkFoundedFixPoint(newFixPoint, fixedPoints)\n",
    "\n",
    "    newFixPoint = exploreDGLSurface(initial_state, -i, args)\n",
    "    fixedPoints = checkFoundedFixPoint(newFixPoint, fixedPoints)\n",
    "\n",
    "  # turn list into tuple\n",
    "  fixedPoints = tuple(fixedPoints)\n",
    "\n",
    "  return fixedPoints"
   ]
  },
  {
   "cell_type": "markdown",
   "metadata": {
    "id": "81XPpB7n4oQX"
   },
   "source": [
    "calculate the fixed points of the system"
   ]
  },
  {
   "cell_type": "code",
   "execution_count": 9,
   "metadata": {
    "id": "FswXu3e0DWI0"
   },
   "outputs": [],
   "source": [
    "fixedPoints = iterateOverDGLSurface(initial_state, surfaceScope = 10, surfaceStep = 1, args = (sigma, rho, beta))"
   ]
  },
  {
   "cell_type": "code",
   "execution_count": 10,
   "metadata": {
    "colab": {
     "base_uri": "https://localhost:8080/"
    },
    "id": "YttkeUgKFonI",
    "outputId": "57f954c5-a0dc-4d25-e689-69a1f44c848f"
   },
   "outputs": [
    {
     "data": {
      "text/plain": [
       "(array([0., 0., 0.]),\n",
       " array([ 8.48528137,  8.48528137, 27.        ]),\n",
       " array([-8.48528137, -8.48528137, 27.        ]))"
      ]
     },
     "execution_count": 10,
     "metadata": {},
     "output_type": "execute_result"
    }
   ],
   "source": [
    "fixedPoints"
   ]
  },
  {
   "cell_type": "code",
   "execution_count": 11,
   "metadata": {
    "colab": {
     "base_uri": "https://localhost:8080/"
    },
    "id": "9C8pimPAJgdb",
    "outputId": "63c0dfd5-6a9a-4b86-c637-e954ad1684c3"
   },
   "outputs": [],
   "source": [
    "variables = symengine.symbols('x y z') # Define variables\n",
    "\n",
    "# Define the function\n",
    "f = symengine.sympify(['sigma * (y - x)', 'x * (rho - z) - y', 'x * y - beta * z']) \n",
    "\n",
    "# initialize Jacobian matrix\n",
    "J = symengine.zeros(len(f),len(variables)) \n",
    "\n",
    "# Fill Jacobian matrix with entries\n",
    "for i, fi in enumerate(f):\n",
    "    for j, s in enumerate(variables):\n",
    "        J[i,j] = symengine.diff(fi, s)\n",
    "\n",
    "# convert J to a sympy matrix\n",
    "stringJ = sympy.Matrix(J)"
   ]
  },
  {
   "cell_type": "code",
   "execution_count": 12,
   "metadata": {
    "colab": {
     "base_uri": "https://localhost:8080/"
    },
    "id": "AmYBEN5XQ93w",
    "outputId": "c8192c2e-f9ec-4a79-bc8d-d32186deb305"
   },
   "outputs": [
    {
     "data": {
      "text/latex": [
       "$\\displaystyle \\left[\\begin{matrix}- \\sigma & \\sigma & 0\\\\\\rho - z & -1 & - x\\\\y & x & - \\beta\\end{matrix}\\right]$"
      ],
      "text/plain": [
       "Matrix([\n",
       "[ -sigma, sigma,     0],\n",
       "[rho - z,    -1,    -x],\n",
       "[      y,     x, -beta]])"
      ]
     },
     "execution_count": 12,
     "metadata": {},
     "output_type": "execute_result"
    }
   ],
   "source": [
    "stringJ"
   ]
  },
  {
   "cell_type": "code",
   "execution_count": 13,
   "metadata": {
    "id": "Xh_oL6GgKaHt"
   },
   "outputs": [],
   "source": [
    "# TODO: generalize this approach \n",
    "\n",
    "fixedPointsDict = {}\n",
    "numFixPoints = 0\n",
    "\n",
    "for i in fixedPoints:\n",
    "\n",
    "  placeHolderDict = {}\n",
    "  placeHolderDict['x'] = i[0]\n",
    "  placeHolderDict['y'] = i[1]\n",
    "  placeHolderDict['z'] = i[2]\n",
    "  fixedPointsDict[numFixPoints] = placeHolderDict\n",
    "  numFixPoints += 1\n",
    "  \n",
    "# eval the J matrix\n",
    "parameterDict = dict()\n",
    "parameterDict['sigma'] = 10.\n",
    "parameterDict['rho'] = 28.\n",
    "parameterDict['beta'] = 8./3."
   ]
  },
  {
   "cell_type": "code",
   "execution_count": 14,
   "metadata": {
    "id": "ffPWUKp7K6Qa"
   },
   "outputs": [],
   "source": [
    "def controlEigenvalues(eigenvalues):\n",
    "  for i in eigenvalues:\n",
    "    if i > 0:\n",
    "      return 'unstable'\n",
    "  return 'stable' "
   ]
  },
  {
   "cell_type": "markdown",
   "metadata": {
    "id": "Z9EkWvNaKH4X"
   },
   "source": [
    "Close to rho=24.74 the real part of the eigenvalues are positive. From this value of rho all the equilibria are unstable."
   ]
  },
  {
   "cell_type": "code",
   "execution_count": 15,
   "metadata": {
    "colab": {
     "base_uri": "https://localhost:8080/"
    },
    "id": "g00yDjqIK9hQ",
    "outputId": "bdc7d188-e67b-4e18-83a6-40bec03de0b5"
   },
   "outputs": [
    {
     "name": "stdout",
     "output_type": "stream",
     "text": [
      "[{'x': 0.0, 'y': 0.0, 'z': 0.0}, {'x': 8.48528137, 'y': 8.48528137, 'z': 27.0}, {'x': -8.48528137, 'y': -8.48528137, 'z': 27.0}]\n"
     ]
    }
   ],
   "source": [
    "unstableFixedPoints = []\n",
    "\n",
    "for i,j in fixedPointsDict.items():\n",
    "  # merge the parameter dict with the fixed point solution\n",
    "  mergedDict = dict(**parameterDict, **j)\n",
    "\n",
    "  numberJ = np.array(np.array(stringJ.subs(mergedDict)),dtype=float)\n",
    "  \n",
    "  # calculate the eigenvalues\n",
    "  eigenvalues = np.linalg.eigvals(numberJ)\n",
    " \n",
    "  # check whether the fixed point is stable or unstable \n",
    "  if controlEigenvalues(eigenvalues) == 'unstable':\n",
    "    unstableFixedPoints.append(j)\n",
    "\n",
    "# NOTE: Temporary solution\n",
    "unstableFixedPointsTuple = ()\n",
    "for i in unstableFixedPoints:\n",
    "    unstableFixedPointsTuple += (np.array(list(i.values())),)\n",
    "\n",
    "print(unstableFixedPoints)"
   ]
  },
  {
   "cell_type": "code",
   "execution_count": 16,
   "metadata": {
    "id": "n4jBBOenLfYt"
   },
   "outputs": [],
   "source": [
    "# For computing the separatrix, we start at the saddle and then integrate the \n",
    "# system backwards in time, starting just off of the saddle point.\n",
    "def newSeparatrix(fixedPoints, xStimulusRange, yStimulusRange, zStimulusRange, sigma, rho, beta, t_max=50, eps=5e-6, \n",
    "                           color='tomato', lw=3):\n",
    "\n",
    "    # Negative time function to integrate to compute separatrix\n",
    "    def rhs(current_state, t):\n",
    "        # Unpack variables\n",
    "        x, y, z = current_state\n",
    "    \n",
    "        # Stop integrating if we get the edge of where we want to integrate\n",
    "        if xStimulusRange[0] < x < xStimulusRange[1] and yStimulusRange[0] < y < yStimulusRange[1] and zStimulusRange[0] < z < zStimulusRange[1]:\n",
    "            return -solveODESystem(current_state, t, sigma, rho, beta)\n",
    "        else:\n",
    "            return np.array([0, 0, 0]) \n",
    "\n",
    "    # Parameters for building separatrix\n",
    "    t = np.linspace(0, t_max, 400)\n",
    "    \n",
    "    # Build upper right branch of separatrix\n",
    "    initial_state = fixedPoints + eps\n",
    "    ab_upper = scipy.integrate.odeint(rhs, initial_state, t)\n",
    "\n",
    "    # Build lower left branch of separatrix\n",
    "    initial_state = fixedPoints - eps\n",
    "    ab_lower = scipy.integrate.odeint(rhs, initial_state, t)\n",
    "\n",
    "    # Concatenate, reversing lower so points are sequential\n",
    "    variableList = ['x', 'y', 'z']\n",
    "    createDataFrameDict = {}\n",
    "    for index, variable in enumerate(variableList):\n",
    "\n",
    "      createDataFrameDict[variable] = list(np.concatenate((ab_lower[::-1,index], ab_upper[:,index])))\n",
    "\n",
    "    # create the separatrix time series as a pandas dataframe\n",
    "    pdDataFrame = pd.DataFrame(data=createDataFrameDict)\n",
    "        \n",
    "    return pdDataFrame"
   ]
  },
  {
   "cell_type": "code",
   "execution_count": 18,
   "metadata": {
    "colab": {
     "base_uri": "https://localhost:8080/",
     "height": 357
    },
    "id": "IjmSPiybM3fQ",
    "outputId": "7ae31b48-c6eb-4140-f0bb-af7a04cf9a89"
   },
   "outputs": [
    {
     "name": "stderr",
     "output_type": "stream",
     "text": [
      "/usr/local/lib/python3.9/site-packages/scipy/integrate/odepack.py:247: ODEintWarning: Excess work done on this call (perhaps wrong Dfun type). Run with full_output = 1 to get quantitative information.\n",
      "  warnings.warn(warning_msg, ODEintWarning)\n"
     ]
    },
    {
     "data": {
      "image/png": "[encoded data removed]",
      "text/plain": [
       "<Figure size 360x360 with 1 Axes>"
      ]
     },
     "metadata": {},
     "output_type": "display_data"
    }
   ],
   "source": [
    "tmax = 50\n",
    "\n",
    "fig = plt.figure(figsize=(5,5))\n",
    "ax = plt.axes(projection='3d')\n",
    "\n",
    "timeSeriesList = []\n",
    "for i in unstableFixedPointsTuple:\n",
    "  pdDataFrame = newSeparatrix(i, xStimulusRange, yStimulusRange, zStimulusRange, sigma, rho, beta, t_max=tmax)\n",
    "  pdDataFrame2 = newSeparatrix(i, xStimulusRange, yStimulusRange, zStimulusRange, sigma, rho, beta, t_max=-tmax)\n",
    "\n",
    "  timeSeriesList.append(pdDataFrame)\n",
    "  timeSeriesList.append(pdDataFrame2)\n",
    "\n",
    "for i in timeSeriesList:\n",
    "  \n",
    "  # split the array column-wise\n",
    "  splittedList = np.hsplit(i.values,len(initial_state))\n",
    "  ax.plot3D(splittedList[0].flatten(),splittedList[1].flatten(), splittedList[2].flatten(), color='black')\n",
    "\n",
    "# plot the trajectorie line\n",
    "x,y,z= trajectorieValue['x'], trajectorieValue['z'],trajectorieValue['z']\n",
    "lines = ax.plot(x, y, z, '-', c='red')\n",
    "plt.setp(lines, linewidth=1)\n",
    "\n",
    "# rotate the plot\n",
    "ax.view_init(0, 90)\n",
    "\n",
    "plt.show()\n"
   ]
  },
  {
   "cell_type": "code",
   "execution_count": null,
   "metadata": {},
   "outputs": [],
   "source": []
  }
 ],
 "metadata": {
  "colab": {
   "collapsed_sections": [],
   "name": "LorenzSystemPhaseSpace.ipynb",
   "provenance": [],
   "toc_visible": true
  },
  "kernelspec": {
   "display_name": "Python 3",
   "language": "python",
   "name": "python3"
  },
  "language_info": {
   "codemirror_mode": {
    "name": "ipython",
    "version": 3
   },
   "file_extension": ".py",
   "mimetype": "text/x-python",
   "name": "python",
   "nbconvert_exporter": "python",
   "pygments_lexer": "ipython3",
   "version": "3.9.1"
  }
 },
 "nbformat": 4,
 "nbformat_minor": 1
}
